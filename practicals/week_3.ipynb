{
 "cells": [
  {
   "cell_type": "markdown",
   "metadata": {},
   "source": [
    "# Preliminaries\n",
    "\n",
    "The `pandas` library allows the user several data structures for different data manipulation tasks:\n",
    "1. Data storage through its `Series` and `DataFrame` data structures.\n",
    "2. Data filtering using multiple methods from the package.\n",
    "3. Reading data from many different file formats such as `csv`, `txt`, `xlsx`, ...\n",
    "\n",
    "Below we provide a brief overview of the `pandas` functionalities needed for these exercises. The complete documentation can be found on the [`pandas` website](https://pandas.pydata.org/).\n",
    "\n",
    "## Pandas data structures\n",
    "\n",
    "### Series\n",
    "The Pandas Series data structure is similar to a one-dimensional array. It can store any type of data. The values are mutable but the size not.\n",
    "\n",
    "To create `Series`, we call the `pd.Series()` method and pass an array. A `Series` may also be created from a numpy array."
   ]
  },
  {
   "cell_type": "code",
   "execution_count": 2,
   "metadata": {},
   "outputs": [
    {
     "name": "stdout",
     "output_type": "stream",
     "text": [
      "0       1\n",
      "1      10\n",
      "2     100\n",
      "3    1000\n",
      "dtype: int64\n",
      "\n",
      "\n",
      "0          PSV\n",
      "1         Ajax\n",
      "2    Feyenoord\n",
      "3       Twente\n",
      "dtype: object\n"
     ]
    }
   ],
   "source": [
    "import pandas as pd\n",
    "import numpy as np\n",
    "\n",
    "first_series = pd.Series([1,10,100,1000])\n",
    "\n",
    "print(first_series)\n",
    "\n",
    "teams = np.array(['PSV','Ajax','Feyenoord','Twente'])\n",
    "second_series = pd.Series(teams)\n",
    "\n",
    "print('\\n')\n",
    "print(second_series)"
   ]
  },
  {
   "cell_type": "markdown",
   "metadata": {},
   "source": [
    "### DataFrame\n",
    "One can think of a `DataFrame` as a table with rows and columns (2D structure). The columns can be of a different type (as opposed to `numpy` arrays) and the size of the `DataFrame` is mutable.\n",
    "\n",
    "To create `DataFrame`, we call the `pd.DataFrame()` method and we can create it from scratch or we can convert a numpy array or a list into a `DataFrame`."
   ]
  },
  {
   "cell_type": "code",
   "execution_count": 3,
   "metadata": {},
   "outputs": [
    {
     "name": "stdout",
     "output_type": "stream",
     "text": [
      "From scratch: \n",
      "    Position       Team  GF  GA  Points\n",
      "0         1        PSV  80  30      79\n",
      "1         2       Ajax  75  25      78\n",
      "2         3  Feyenoord  75  40      70\n",
      "3         4     Twente  70  60      66 \n",
      "\n",
      "From list: \n",
      "   Position       Team  GF  GA Points\n",
      "0        1        PSV  80  30     79\n",
      "1        2       Ajax  75  25     78\n",
      "2        3  Feyenoord  75  40     70\n",
      "3        4     Twente  70  60     66 \n",
      "\n",
      "From numpy array: \n",
      "   Position       Team  GF  GA Points\n",
      "0        1        PSV  80  30     79\n",
      "1        2       Ajax  75  25     78\n",
      "2        3  Feyenoord  75  40     70\n",
      "3        4     Twente  70  60     66 \n",
      "\n"
     ]
    }
   ],
   "source": [
    "# DataFrame from scratch\n",
    "first_dataframe = pd.DataFrame({\n",
    "    \"Position\": [1, 2, 3, 4],\n",
    "    \"Team\": ['PSV','Ajax','Feyenoord','Twente'],\n",
    "    \"GF\": [80, 75, 75, 70],\n",
    "    \"GA\": [30, 25, 40, 60],\n",
    "    \"Points\": [79, 78, 70, 66]\n",
    "})\n",
    "\n",
    "print(\"From scratch: \\n {} \\n\".format(first_dataframe))\n",
    "\n",
    "# DataFrme from a list\n",
    "data = [[1, 2, 3, 4], ['PSV','Ajax','Feyenoord','Twente'], \n",
    "        [80, 75, 75, 70], [30, 25, 40, 60], [79, 78, 70, 66]]\n",
    "columns = [\"Position\", \"Team\", \"GF\", \"GA\", \"Points\"]\n",
    "\n",
    "second_dataframe = pd.DataFrame(data, index=columns)\n",
    "\n",
    "print(\"From list: \\n {} \\n\".format(second_dataframe.T)) # the '.T' operator is explained later on\n",
    "\n",
    "# DataFrame from numpy array\n",
    "data = np.array([[1, 2, 3, 4], ['PSV','Ajax','Feyenoord','Twente'], \n",
    "                 [80, 75, 75, 70], [30, 25, 40, 60], [79, 78, 70, 66]])\n",
    "columns = [\"Position\", \"Team\", \"GF\", \"GA\", \"Points\"]\n",
    "\n",
    "third_dataframe = pd.DataFrame(data.T, columns=columns)\n",
    "\n",
    "print(\"From numpy array: \\n {} \\n\".format(third_dataframe))"
   ]
  },
  {
   "cell_type": "markdown",
   "metadata": {},
   "source": [
    "### DataFrame attributes\n",
    "This section gives a quick overview of some of the `pandas.DataFrame` attributes such as `T`, `index`, `columns`, `iloc`, `loc`, `shape` and `values`."
   ]
  },
  {
   "cell_type": "code",
   "execution_count": 4,
   "metadata": {},
   "outputs": [
    {
     "name": "stdout",
     "output_type": "stream",
     "text": [
      "            0     1          2       3\n",
      "Position    1     2          3       4\n",
      "Team      PSV  Ajax  Feyenoord  Twente\n",
      "GF         80    75         75      70\n",
      "GA         30    25         40      60\n",
      "Points     79    78         70      66\n"
     ]
    }
   ],
   "source": [
    "# transpose the index and columns\n",
    "print(third_dataframe.T)"
   ]
  },
  {
   "cell_type": "code",
   "execution_count": 5,
   "metadata": {},
   "outputs": [
    {
     "name": "stdout",
     "output_type": "stream",
     "text": [
      "RangeIndex(start=0, stop=4, step=1)\n"
     ]
    }
   ],
   "source": [
    "# index makes reference to the row labels\n",
    "print(third_dataframe.index)"
   ]
  },
  {
   "cell_type": "code",
   "execution_count": 6,
   "metadata": {},
   "outputs": [
    {
     "name": "stdout",
     "output_type": "stream",
     "text": [
      "Index(['Position', 'Team', 'GF', 'GA', 'Points'], dtype='object')\n"
     ]
    }
   ],
   "source": [
    "# columns makes reference to the column labels\n",
    "print(third_dataframe.columns)"
   ]
  },
  {
   "cell_type": "code",
   "execution_count": 7,
   "metadata": {},
   "outputs": [
    {
     "name": "stdout",
     "output_type": "stream",
     "text": [
      "0          PSV\n",
      "1         Ajax\n",
      "2    Feyenoord\n",
      "3       Twente\n",
      "Name: Team, dtype: object\n"
     ]
    }
   ],
   "source": [
    "# iloc allows to access the index by integer-location (e.g. all team names, which are in the second columm)\n",
    "print(third_dataframe.iloc[:,1])"
   ]
  },
  {
   "cell_type": "code",
   "execution_count": 8,
   "metadata": {},
   "outputs": [
    {
     "name": "stdout",
     "output_type": "stream",
     "text": [
      "PSV\n"
     ]
    }
   ],
   "source": [
    "# loc allows to access the index by label(s)-location (e.g. all team names, which are in the \"Team\" columm)\n",
    "print(third_dataframe.loc[0, 'Team'])"
   ]
  },
  {
   "cell_type": "code",
   "execution_count": 9,
   "metadata": {},
   "outputs": [
    {
     "name": "stdout",
     "output_type": "stream",
     "text": [
      "(4, 5)\n"
     ]
    }
   ],
   "source": [
    "# shape returns a tuple with the DataFrame dimension, similar to numpy\n",
    "print(third_dataframe.shape)"
   ]
  },
  {
   "cell_type": "code",
   "execution_count": 10,
   "metadata": {},
   "outputs": [
    {
     "name": "stdout",
     "output_type": "stream",
     "text": [
      "[['1' 'PSV' '80' '30' '79']\n",
      " ['2' 'Ajax' '75' '25' '78']\n",
      " ['3' 'Feyenoord' '75' '40' '70']\n",
      " ['4' 'Twente' '70' '60' '66']]\n"
     ]
    }
   ],
   "source": [
    "# values return a Numpy representation of the DataFrame data\n",
    "print(third_dataframe.values)"
   ]
  },
  {
   "cell_type": "markdown",
   "metadata": {},
   "source": [
    "### DataFrame methods\n",
    "This section gives a quick overview of some of the `pandas.DataFrame` methods such as `head`, `describe`, `concat`, `groupby`,`rename`, `filter`, `drop` and `isna`. To import data from CSV or MS Excel files, we can make use of `read_csv` and `read_excel`, respectively."
   ]
  },
  {
   "cell_type": "code",
   "execution_count": 11,
   "metadata": {},
   "outputs": [
    {
     "name": "stdout",
     "output_type": "stream",
     "text": [
      "  Position       Team  GF  GA Points\n",
      "0        1        PSV  80  30     79\n",
      "1        2       Ajax  75  25     78\n",
      "2        3  Feyenoord  75  40     70\n",
      "3        4     Twente  70  60     66\n"
     ]
    }
   ],
   "source": [
    "# print the first few rows in your dataset with head()\n",
    "print(third_dataframe.head()) # In this case, it is not very useful because we don't have thousands of rows"
   ]
  },
  {
   "cell_type": "code",
   "execution_count": 12,
   "metadata": {},
   "outputs": [
    {
     "name": "stdout",
     "output_type": "stream",
     "text": [
      "       Position    Team  GF  GA Points\n",
      "count         4       4   4   4      4\n",
      "unique        4       4   3   4      4\n",
      "top           1  Twente  75  30     79\n",
      "freq          1       1   2   1      1\n"
     ]
    }
   ],
   "source": [
    "# get the summary statistics of the DataFrame with describe()\n",
    "print(third_dataframe.describe())"
   ]
  },
  {
   "cell_type": "code",
   "execution_count": 13,
   "metadata": {},
   "outputs": [
    {
     "name": "stdout",
     "output_type": "stream",
     "text": [
      "  Position  Team  GF  GA Points\n",
      "0        1   PSV  80  30     79\n",
      "1        2  Ajax  75  25     78\n",
      "\n",
      "\n",
      "  Position       Team  GF  GA Points\n",
      "2        3  Feyenoord  75  40     70\n",
      "3        4     Twente  70  60     66\n",
      "\n",
      "\n",
      "  Position       Team  GF  GA Points\n",
      "0        1        PSV  80  30     79\n",
      "1        2       Ajax  75  25     78\n",
      "2        3  Feyenoord  75  40     70\n",
      "3        4     Twente  70  60     66\n"
     ]
    }
   ],
   "source": [
    "# concatenate (join) DataFrame objects using concat()\n",
    "\n",
    "# first, we will split the above DataFrame in two different ones\n",
    "df_a = third_dataframe.loc[[0,1],:]\n",
    "df_b = third_dataframe.loc[[2,3],:]\n",
    "\n",
    "print(df_a)\n",
    "print('\\n')\n",
    "\n",
    "print(df_b)\n",
    "print('\\n')\n",
    "\n",
    "# now, we concatenate both datasets\n",
    "df = pd.concat([df_a, df_b])\n",
    "\n",
    "print(df)"
   ]
  },
  {
   "cell_type": "code",
   "execution_count": 14,
   "metadata": {},
   "outputs": [
    {
     "name": "stdout",
     "output_type": "stream",
     "text": [
      "  Position       Team  GF  GA Points\n",
      "1        2       Ajax  75  25     78\n",
      "2        3  Feyenoord  75  40     70\n"
     ]
    }
   ],
   "source": [
    "# group the data by certain variable via groupby()\n",
    "# here, we have grouped the data by goals for, which in this case is 75\n",
    "\n",
    "group = df.groupby('GF')\n",
    "\n",
    "print(group.get_group('75'))"
   ]
  },
  {
   "cell_type": "code",
   "execution_count": 15,
   "metadata": {},
   "outputs": [
    {
     "name": "stdout",
     "output_type": "stream",
     "text": [
      "  Pos       Club  GF  GA Points\n",
      "0   1        PSV  80  30     79\n",
      "1   2       Ajax  75  25     78\n",
      "2   3  Feyenoord  75  40     70\n",
      "3   4     Twente  70  60     66\n"
     ]
    }
   ],
   "source": [
    "# rename() helps you change the column or index names\n",
    "print(df.rename(columns={'Position':'Pos','Team':'Club'}))"
   ]
  },
  {
   "cell_type": "code",
   "execution_count": 16,
   "metadata": {},
   "outputs": [
    {
     "name": "stdout",
     "output_type": "stream",
     "text": [
      "        Team Points\n",
      "0        PSV     79\n",
      "1       Ajax     78\n",
      "2  Feyenoord     70\n",
      "3     Twente     66\n"
     ]
    }
   ],
   "source": [
    "# build a subset of rows or columns of your dataset according to labels via filter()\n",
    "# here, items refer to the variable names: 'Team' and 'Points'; to select columns, we specify axis=1\n",
    "print(df.filter(items=['Team', 'Points'], axis=1))"
   ]
  },
  {
   "cell_type": "code",
   "execution_count": 17,
   "metadata": {},
   "outputs": [
    {
     "name": "stdout",
     "output_type": "stream",
     "text": [
      "  Position       Team Points\n",
      "0        1        PSV     79\n",
      "1        2       Ajax     78\n",
      "2        3  Feyenoord     70\n",
      "3        4     Twente     66\n"
     ]
    }
   ],
   "source": [
    "# dropping some labels\n",
    "print(df.drop(columns=['GF', 'GA']))"
   ]
  },
  {
   "cell_type": "code",
   "execution_count": 18,
   "metadata": {},
   "outputs": [
    {
     "name": "stdout",
     "output_type": "stream",
     "text": [
      "   Position   Team     GF     GA  Points\n",
      "0     False  False  False  False   False\n",
      "1     False  False  False  False   False\n",
      "2     False  False  False  False   False\n",
      "3     False  False  False  False   False\n",
      "\n",
      "\n",
      "  Position       Team  GF  GA Points     W\n",
      "0        1        PSV  80  30     79   NaN\n",
      "1        2       Ajax  75  25     78  25.0\n",
      "2        3  Feyenoord  75  40     70  24.0\n",
      "3        4     Twente  70  60     66  19.0\n",
      "\n",
      "\n",
      "   Position   Team     GF     GA  Points      W\n",
      "0     False  False  False  False   False   True\n",
      "1     False  False  False  False   False  False\n",
      "2     False  False  False  False   False  False\n",
      "3     False  False  False  False   False  False\n"
     ]
    }
   ],
   "source": [
    "# search for NA (not available) entries in the DataFrame\n",
    "print(df.isna()) # No NA values\n",
    "print('\\n')\n",
    "\n",
    "# create a pandas Series with a NA value\n",
    "# the Series as W (winnin matches)\n",
    "tmp = pd.Series([np.NaN, 25, 24, 19],  name=\"W\")\n",
    "\n",
    "# concatenate the Series with the DataFrame\n",
    "df = pd.concat([df,tmp], axis = 1)\n",
    "print(df)\n",
    "print('\\n')\n",
    "\n",
    "# again, check for NA entries\n",
    "print(df.isna())"
   ]
  },
  {
   "cell_type": "markdown",
   "metadata": {},
   "source": [
    "## Dataset\n",
    "\n",
    "For this week exercises we will use a dataset from the Genomics of Drug Sensitivity in Cancer (GDSC) project (https://www.cancerrxgene.org/). In this study (['Iorio et al., Cell, 2016']()), 265 compounds were tested on 1001 cancer cell lines for which different types of -omics data (RNA expression, DNA methylation, Copy Number Alteration, DNA sequencing) are available. This is a valuable resource to look for biomarkers of drugs sensitivity in order to try to understand why cancer patients responds very differently to cancer drugs and find ways to assign the optimal treatment to each patient.\n",
    "\n",
    "For this exercise we will use a subset of the data, focusing the response to the drug YM155 (Sepantronium bromide) on four cancer types, for a total of 148 cancer cell lines.\n",
    "\n",
    "| ID          | Cancer type                      |\n",
    "|-------------|----------------------------------|\n",
    "|   COAD/READ | Colorectal adenocarcinoma        |\n",
    "|   NB        | Neuroblastoma                    |\n",
    "|   KIRC      | Kidney renal clear cell carcinoma|\n",
    "|   BRCA      | Breast carcinoma                 |\n",
    "\n",
    "We will use the RNA expression data (RMA normalised). Only genes with high variability across cell lines (variance > 5, resulting in 238 genes) have been kept.\n",
    "\n",
    "Drugs have been tested at different concentration, measuring each time the viability of the cells. Drug sensitivity is measured using the natural log of the fitted IC50 metric, which is defined as the half maximal inhibitory concentration. A lower IC50 corresponds to a more sensitive cell line because a lower amount of drug is sufficient to have a strong response, while a higher IC50 corresponds to a more resistant cell line because more drug is needed for killing the cells.\n",
    "\n",
    "Based on the IC50 metric, cells can be classified as sensitive or resistant. The classification is done by computing the $z$-score across all cell lines in the GDSC for each drug, and considering as sensitive the ones with $z$-score < 0 and resistant the ones with $z$-score > 0.\n",
    "\n",
    "The dataset is originally provided as 3 files ([original source](https://www.sciencedirect.com/science/article/pii/S0092867416307462?via%3Dihub)) :\n",
    "\n",
    "`GDSC_RNA_expression.csv`: gene expression matrix with the cell lines in the rows (148) and the genes in the columns (238).\n",
    "\n",
    "`GDSC_drug_response.csv`: vector with the cell lines response to the drug YM155 in terms of log(IC50) and as classification in sensitive or resistant.\n",
    "\n",
    "`GDSC_metadata.csv`: metadata for the 148 cell lines including name, COSMIC ID and tumor type (using the classification from ['The Cancer Genome Atlas TCGA'](https://www.cancer.gov/about-nci/organization/ccg/research/structural-genomics/tcga))\n",
    "\n",
    "For convenience, we provide the data already curated.\n",
    "\n",
    "`RNA_expression_curated.csv`: [148 cell lines , 238 genes]\n",
    "\n",
    "`drug_response_curated.csv`: [148 cell lines , YM155 drug]\n",
    "\n",
    "The curated data cam be read as `pandas` `DataFrame`s in the following way:"
   ]
  },
  {
   "cell_type": "code",
   "execution_count": 19,
   "metadata": {},
   "outputs": [],
   "source": [
    "import pandas as pd\n",
    "\n",
    "gene_expression = pd.read_csv(\"./data/RNA_expression_curated.csv\", sep=',', header=0, index_col=0)\n",
    "drug_response = pd.read_csv(\"./data/drug_response_curated.csv\", sep=',', header=0, index_col=0)"
   ]
  },
  {
   "cell_type": "markdown",
   "metadata": {},
   "source": [
    "You can use the `DataFrame`s directly as inputs to the the `sklearn` models. The advantage over using `numpy` arrays is that the variable are annotated, i.e. each input and output has a name."
   ]
  },
  {
   "cell_type": "markdown",
   "metadata": {},
   "source": [
    "## Tools\n",
    "The `scikit-learn` library provides the required tools for linear regression/classification and shrinkage, as well as for logistic regression."
   ]
  },
  {
   "cell_type": "code",
   "execution_count": 20,
   "metadata": {},
   "outputs": [],
   "source": [
    "from sklearn.linear_model import LinearRegression\n",
    "from sklearn.linear_model import Ridge\n",
    "from sklearn.linear_model import Lasso\n",
    "from sklearn.linear_model import LogisticRegression"
   ]
  },
  {
   "cell_type": "markdown",
   "metadata": {},
   "source": [
    "Note that the notation used for the hyperparameters in the `scikit-learn` library is different from the one used in the lecture. More specifically, in the lecture $\\alpha$ is the tunable parameter to select the compromise between Ridge and Lasso. Whereas, `scikit-learn` library refers to `alpha` as the tunable parameter $\\lambda$. Please check the documentation for more details."
   ]
  },
  {
   "cell_type": "markdown",
   "metadata": {},
   "source": [
    "# Exercises\n",
    "\n",
    "## Selection of the hyperparameter\n",
    "\n",
    "Implement cross-validation (using `sklearn.grid_search.GridSearchCV`) to select the `alpha` hyperparameter of `sklearn.linear_model.Lasso`. To match scikit-learn nomenclature we explicitly define $\\alpha$ as the regularisation hyperparameter instead of the commonly used $\\lambda$ in literature."
   ]
  },
  {
   "cell_type": "code",
   "execution_count": 23,
   "metadata": {},
   "outputs": [
    {
     "name": "stdout",
     "output_type": "stream",
     "text": [
      "Mean squared error (test set): 5.52\n",
      "Optimal value for alpha: 0.3727593720314938\n",
      "The selected features are: ['PRSS3' 'GAL' 'CDH17' 'ABCB1' 'FN1' 'RARRES3' 'DUSP6' 'CYR61' 'FABP1'\n",
      " 'CDX2' 'AKR1C3']\n"
     ]
    },
    {
     "data": {
      "image/png": "[encoded data removed]",
      "text/plain": [
       "<Figure size 432x288 with 1 Axes>"
      ]
     },
     "metadata": {
      "needs_background": "light"
     },
     "output_type": "display_data"
    },
    {
     "data": {
      "image/png": "[encoded data removed]",
      "text/plain": [
       "<Figure size 432x288 with 1 Axes>"
      ]
     },
     "metadata": {
      "needs_background": "light"
     },
     "output_type": "display_data"
    }
   ],
   "source": [
    "%matplotlib inline\n",
    "%reload_ext autoreload\n",
    "%autoreload 1\n",
    "import matplotlib.pyplot as plt\n",
    "from sklearn.preprocessing import PolynomialFeatures, StandardScaler\n",
    "from sklearn.metrics import mean_squared_error, make_scorer\n",
    "from sklearn.linear_model import Lasso\n",
    "from sklearn.model_selection import GridSearchCV, train_test_split\n",
    "from sklearn.pipeline import Pipeline\n",
    "import pandas as pd\n",
    "import numpy as np\n",
    "\n",
    "# Initialize (pseudo-) random number generator with a seed\n",
    "# for reproducibility of results\n",
    "np.random.seed(40)\n",
    "\n",
    "def do_gridsearch_alpha(X_train, y_train, X_test, y_test, alphas, crossvals=5, plot=True):\n",
    "    \"\"\"\n",
    "    given a train and a test dataset, fit and evaluate polynomial regression models with given degrees\n",
    "    \n",
    "    Parameters: \n",
    "        X_train: 2D (Datapoints x features) numpy array\n",
    "            the datapoints on which to train the models\n",
    "        y_train: 1D (Targets) numpy array\n",
    "            the targets on which to train the models\n",
    "        X_test: 2D (Datapoints x features) numpy array\n",
    "            the datapoints on which to test the models\n",
    "        y_test: 1D (Targets) numpy array\n",
    "            the targets on which to test the models\n",
    "        alphas: 1D numpy array\n",
    "             alpha candidates\n",
    "        crossvals: int\n",
    "            amount of cross-validation folds\n",
    "        plot: bool\n",
    "            True for plotting the MSE scores, False for surpressing the plots\n",
    "    \n",
    "    returns: \n",
    "        a GridSearchCV object, containing the fitted models for every degree polynomial\n",
    "    \"\"\"\n",
    "    # Define the functions for polynomial features and linear regression\n",
    "    Lassoreg = Lasso(max_iter=10000, tol=0.001) # Increased tolerance to stop \"ConvergenceWarning\"\n",
    "    scaler = StandardScaler()\n",
    "\n",
    "    # Define the pipeline, containing the polynomial transformation and the subsequent linear regression\n",
    "    model = Pipeline([\n",
    "                     (\"scaler\", scaler),\n",
    "                     (\"lasso\", Lassoreg)\n",
    "                    ])\n",
    "\n",
    "    # Define the hyperparameters for the Grid Search\n",
    "    params = {'lasso__alpha': alphas}\n",
    "\n",
    "    # Define a custom scoring system to evaluate the mean squared error (lower is better)\n",
    "    mse = make_scorer(mean_squared_error,greater_is_better=False)\n",
    "\n",
    "    # Define the Grid Search method\n",
    "    gridsearch = GridSearchCV(model, params, scoring=mse, cv=crossvals)\n",
    "\n",
    "    # Run Grid Search\n",
    "    gridsearch.fit(X_train, y_train)\n",
    "    \n",
    "    # Predict targets for test set\n",
    "    y_pred = gridsearch.predict(X_test)\n",
    "    \n",
    "    # Calculate MSE of the predictions on the test set\n",
    "    MSE_test_set = mean_squared_error(y_test, y_pred)\n",
    "    print(f'Mean squared error (test set): {MSE_test_set:.4}')\n",
    "    \n",
    "    if plot:\n",
    "        # Plot MSE scores\n",
    "        plt.figure()\n",
    "        plt.title('Scores for every degree (per fold different colors)')\n",
    "        colors = ['b.', 'r.', 'g.', 'y.', 'k.', 'c.']\n",
    "        for i in range(crossvals):\n",
    "            q = gridsearch.cv_results_[f'split{i}_test_score']\n",
    "            plt.plot(np.log(params['lasso__alpha']), np.log(-q), colors[i % len(colors)], markersize=12)\n",
    "\n",
    "        plt.xlabel('log alpha')\n",
    "        plt.ylabel('log(-MSE)')\n",
    "        plt.legend(list(range(1,crossvals+1)))\n",
    "\n",
    "        # Plot average MSE scores\n",
    "        plt.figure()\n",
    "        #plt.errorbar(np.log(params['lasso__alpha']), np.log(-gridsearch.cv_results_[f'mean_test_score']), np.log(gridsearch.cv_results_[f'std_test_score']), linestyle='None', marker='.',markersize=12)\n",
    "        plt.plot(np.log(params['lasso__alpha']), np.log(-gridsearch.cv_results_[f'mean_test_score']), 'k.', markersize=12)\n",
    "        plt.title('Average scores of all folds')\n",
    "        plt.xlabel('log alpha')\n",
    "        plt.ylabel('log(-MSE)');\n",
    "    return gridsearch\n",
    "\n",
    "# Load data from CSV-files\n",
    "gene_expression = pd.read_csv(\"./data/RNA_expression_curated.csv\", sep=',', header=0, index_col=0)\n",
    "drug_response = pd.read_csv(\"./data/drug_response_curated.csv\", sep=',', header=0, index_col=0)\n",
    "\n",
    "# Split data into training and test set\n",
    "X_train, X_test, y_train, y_test = train_test_split(gene_expression, drug_response)\n",
    "\n",
    "# Define value range for alpha (optimal value to be found using Grid Search)\n",
    "alphaspace = np.logspace(-3, 1, num=15)\n",
    "\n",
    "# Find optimal value for alpha using Grid Search\n",
    "grids = do_gridsearch_alpha(X_train, y_train, X_test, y_test, alphaspace, 5)\n",
    "alphamin = grids.best_params_['lasso__alpha']\n",
    "print(f\"Optimal value for alpha: {alphamin}\")\n",
    "\n",
    "\n",
    "feature_index = np.nonzero(grids.best_estimator_.named_steps['lasso'].coef_)\n",
    "print(f\"The selected features are: {gene_expression.columns.values[feature_index]}\")\n"
   ]
  },
  {
   "cell_type": "markdown",
   "metadata": {},
   "source": [
    "## Feature selection\n",
    "\n",
    "Look at the features selected using the hyperparameter which corresponds to the minimum cross-validation error.\n",
    "\n",
    "<p><font color='#770a0a'>Is the partition in training and validation sets playing a role in the selection of the hyperparameter? How will this affect the selection of the relevant features?</font></p>\n",
    "\n",
    "<p><font color='#770a0a'>Should the value of the intercept also be shrunk to zero with Lasso and Ridge regression? Motivate your answer.</font></p>"
   ]
  },
  {
   "cell_type": "markdown",
   "metadata": {},
   "source": [
    "***ANSWER:***\n",
    "\n",
    "Partitioning in training and validation do play a role in selection of alpha as we can see in the different cross validation runs above. For different values of alpha, different partitions (colors) have the least MSE, this exemplifies the effect of partitions on the selection of alpha. Without bootstrapping, one of these partitions would have been selected, changing the optimum alpha. Following a change in alpha due to partitioning, the amount of features (and which specific features) that are selected will change as well, with a higher alpha leading to less selected features. Different train test splits can be shown to lead to different selected features as well by disabling the random seed in the above function, and running the code a few times. This can be seen to lead to different selected features.\n",
    "\n",
    "The intercept should be seperate, as the intercept is merely a correction of the mean in a complex feature space and thus not relate to whether a feature has high enough impact and robustness to be taken into account in the final model. Also:\n",
    "    \n",
    "$$\n",
    "\\hat{\\beta}^{\\text {lasso }}=\\underset{\\beta}{\\operatorname{argmin}}\\left\\{\\sum_{i=1}^{N}\\left(y_{i}-\\beta_{0}-\\sum_{j=1}^{p} x_{i j} \\beta_{j}\\right)^{2}+\\alpha \\sum_{j=1}^{p}\\left|\\beta_{j}\\right|\\right\\}\n",
    "$$\n",
    "\n",
    "and:\n",
    "$$\n",
    "\\hat{\\beta}^{\\text {ridge }}=\\underset{\\beta}{\\operatorname{argmin}}\\left\\{\\sum_{i=1}^{N}\\left(y_{i}-\\beta_{0}-\\sum_{j=1}^{p} x_{i j} \\beta_{j}\\right)^{2}+\\alpha \\sum_{j=1}^{p} \\beta_{j}^{2}\\right\\}\n",
    "$$\n",
    "\n",
    "Intercept $\\beta_0$ is, for both ridge and lasso, outside the penalty term. So, the intercept is never shrunk to zero."
   ]
  },
  {
   "cell_type": "code",
   "execution_count": 24,
   "metadata": {},
   "outputs": [
    {
     "data": {
      "text/plain": [
       "array([-2.48306306])"
      ]
     },
     "execution_count": 24,
     "metadata": {},
     "output_type": "execute_result"
    }
   ],
   "source": [
    "# Find the resulting coefficients for the best estimator (best alpha) -->\n",
    "# Effect of training and val sets: rerun and check if below func is different\n",
    "grids.best_estimator_.steps[1][1].coef_\n",
    "# As we can see Lasso automatically seperates the intercept from the Regularization --> It is and should not be included\n",
    "grids.best_estimator_.steps[1][1].intercept_"
   ]
  },
  {
   "cell_type": "markdown",
   "metadata": {},
   "source": [
    "## Bias-variance \n",
    "\n",
    "Show the effect of the regularization on the parameter estimates in terms of bias and variance. For this you can repeat the optimization 100 times using bootstrap and visualise the profile of the Lasso regression coefficient over a grid of the hyperparameter, optionally including the variability as error bars.\n",
    "\n",
    "<p><font color='#770a0a'>Based on the visual analysis of the plot, what are your observation on bias and variance in relation to model complexity? Motivate your answer.</font></p>\n",
    "\n",
    "***ANSWER:***  <font color='red'> Nog een keuze maken voor manier van bias berekenen (hieronder), ook nog tekst aanpassen van bias </font>\n",
    "<!--\n",
    "<font color='red'>Below we implemented a procedure where the data is resampled for set amount `n_bootstrap_runs` times. The data is split into testing and training data every run. For every $\\alpha$ in `alphaspace` a model was fitted on the training set and evaluated on the test set. For each run and $\\alpha$ we keep track of the following quantities:\n",
    "\n",
    "<font color='red'>1. The mean squared error (MSE) of the test predictions\n",
    "<font color='red'>2. The lasso regression coefficients\n",
    "<font color='red'>3. The variance of the test predictions\n",
    "\n",
    "<font color='red'>Underneath the implementation we visualize the obtained quantities and discuss the effect of (L1-) regularisation on the parameter estimates. \n",
    "\n",
    "<font color='#FF0000'>Troy: Ik heb het nu zonder grid search gedaan. GridSearchCV heeft geen ondersteuning voor het retrieven van alle model coëfficiënten, alleen van de beste. Vorig jaar heb ik dit opgelost door een clone van GridSearchCV te maken en die zelf aan te passen (uiteraard in eigen code). Nu bedenk ik me wel dat GridSearch misschien helemaal niet nodig, aangezien er verder niet gevraagd wordt cross-validation toe te passen.</font>\n",
    "\n",
    "<font color='red'>**Vincent**: Waarom precies de opbouw van die \"bootstrap_test_train_split\"-functie? Daarnaast: de vraag is \"Show the effect of the regularization on the parameter estimates in terms of bias and variance\". Het enige wat we nu hebben is variance tov $\\alpha$, maar we hebben niets qua bias (en wel MSE). Omdat $\n",
    "\\operatorname{MSE}(\\hat{\\theta}) = \\operatorname{Var_\\theta}\\left(\\hat{\\theta}\\right) +\\operatorname{Bias}_{\\theta}\\left(\\hat{\\theta}\\right)^{2}\n",
    "$, kunnen we dan niet de bias op die manier uitrekenen?\n",
    "\n",
    "-->"
   ]
  },
  {
   "cell_type": "code",
   "execution_count": 53,
   "metadata": {},
   "outputs": [],
   "source": [
    "from sklearn.base import clone\n",
    "from sklearn.model_selection import ParameterGrid\n",
    "from sklearn.utils import resample\n",
    "from mlxtend.evaluate import bias_variance_decomp\n",
    "\n",
    "def bootstrap_test_train_split(X, y, n_runs, random_state = 0):\n",
    "    \"\"\"\n",
    "    A generator that samples X, y with replacement (used in bootstrapping) and splits\n",
    "    it into a test and train dataset.\n",
    "\n",
    "    :param X: feature matrix\n",
    "    :param y: target vector\n",
    "    :param n_runs: amount of times the data is resampled\n",
    "    :param random_state: random state of random number generators\n",
    "    :yield: X and y resampled and split into train, test (X_train, X_test, y_train, y_test)\n",
    "    \"\"\"\n",
    "    for i in range(n_runs):\n",
    "        # Bootstrapping is sampling WITH replacement\n",
    "        Xsampled, ysampled = resample(X, y, random_state=random_state+i, replace=True)\n",
    "\n",
    "        yield train_test_split(Xsampled, ysampled, shuffle=False)\n",
    "\n",
    "        \n",
    "# Load data from CSV files\n",
    "gene_expression = pd.read_csv(\"./data/RNA_expression_curated.csv\", sep=',', header=0, index_col=0)\n",
    "drug_response = pd.read_csv(\"./data/drug_response_curated.csv\", sep=',', header=0, index_col=0)\n",
    "\n",
    "# Define values for alpha and set bootstrap options\n",
    "alphaspace = np.logspace(-5, 2, num=20)\n",
    "n_bootstrap_runs = 100\n",
    "\n",
    "# Define empty arrays to store results in\n",
    "MSEs = np.zeros((n_bootstrap_runs, alphaspace.shape[0]))\n",
    "stds = np.zeros((n_bootstrap_runs, alphaspace.shape[0]))\n",
    "coefs = np.zeros((n_bootstrap_runs, alphaspace.shape[0], gene_expression.shape[1]))\n",
    "bias = np.zeros((n_bootstrap_runs, alphaspace.shape[0]))\n",
    "bias2 = np.zeros((n_bootstrap_runs, alphaspace.shape[0]))\n",
    "\n",
    "# Select training and test set using bootstrap function\n",
    "for i, (X_train, X_test, y_train, y_test) in \\\n",
    "                    enumerate(bootstrap_test_train_split(gene_expression, drug_response, n_bootstrap_runs,40)):\n",
    "    \n",
    "    # Define Lasso regression method and scaling method\n",
    "    Lassoreg = Lasso(max_iter=2000, tol=0.003)\n",
    "    scaler = StandardScaler()\n",
    "\n",
    "    # Define the pipeline\n",
    "    model = Pipeline([\n",
    "                     (\"scaler\", scaler),\n",
    "                     (\"lasso\", Lassoreg)\n",
    "                    ])\n",
    "    \n",
    "    # Define parameters (values for alpha) \n",
    "    params = {'lasso__alpha': alphaspace}\n",
    "    \n",
    "    # Loop over all values for alpha\n",
    "    for j, param in enumerate(ParameterGrid(params)): \n",
    "        \n",
    "        # Clone model (to be able to use variable 'model' again, set value for alpha and fit model to training data \n",
    "        model_ = clone(model)\n",
    "        model_.set_params(**param)\n",
    "        model_.fit(X_train, y_train)\n",
    "        \n",
    "        # Evaluate model, calculate MSE, standard deviation and bias\n",
    "        y_pred = model_.predict(X_test)\n",
    "        stds[i, j] = np.std(y_pred)\n",
    "        MSEs[i, j] = mean_squared_error(y_test, y_pred)\n",
    "        coefs[i, j, ...] = model_.named_steps['lasso'].coef_\n",
    "        bias[i, j] = np.sqrt(MSEs[i,j] - np.var(y_pred[:, np.newaxis] - y_test)) # Bias = sqrt(MSE - Var)\n",
    "        bias2[i, j] = (np.mean(y_pred) - np.mean(y_test))**2                     # Bias = (E(theta^) -  theta)^2\n"
   ]
  },
  {
   "cell_type": "markdown",
   "metadata": {},
   "source": [
    "In the figures below it can be seen that as $\\alpha$ increases, the bias increases and the variance decreases. This can be explained following the feature selection of the Lasso regression. An increase in $\\alpha$ causes more feature weights to go to zero, thus reducing the model complexity. This leads to a higher bias, as explained in week 2 (the model can not fully describe the data anymore). On the contrary, an increase in $\\alpha$ can be seen to correspond to a decrease in variance. The higher $\\alpha$-coefficient pushes the feature weights closer to 0, decreasing the deviation. <font color='blue'>Moreover, overall we have \"more data per feature\" giving a higher certainty for the predicted feature values.</font> Looking at the MSE plot, it can be seen that there is an optimal value for $\\alpha$. This optimum is found when the model complexity is still high enough to accurately describe the data (bias is not too high), while the model complexity is low enough to get accurate estimates on the features (lower variance).\n",
    "\n",
    "<font color='blue'>Dat stukje in het blauw snap ik niet helemaal</font>\n",
    "\n",
    "<!--\n",
    "<font color='red'>In the cell below, the MSE on the test set is plotted against the  including standard deviation (visualized by vertical errorbars) against $\\alpha$ over a space of 20 points between $10^{-5}$ and $10^2$ (Figure 1). As the $\\alpha$-coefficient increases, more regression coefficients are pushed towards zero. Effectively, as $\\alpha$ increases the bias is increased and variance decreased.  For reference we include a plot (Figure 2) of an estimate of the variance (or rather standard deviation) and we observe that from ~$10^{-2}$ the variance decreases (up to a point where it becomes zero). With this large increase comes just a modest increase in MSE. And as the MSE is effectively the sum of variance and the squared bias, we deduce that the bias must be increasing. Thus here we can see clearly that the theory of the bias-variance tradeoff holds true for a lasso regression model (on this particular dataset). </font>\n",
    "\n",
    "<font color='red'>If we dive into specifics as to why the bias increases as alpha increases, we take a glance at the regularisation component of the objective function for lasso regression: \n",
    "\n",
    "<font color='red'>$\n",
    "\\begin{align*}\n",
    "\\alpha \\sum_{i=1}^p |\\beta_i|\n",
    "\\end{align*}\n",
    "$\n",
    "\n",
    "<font color='red'>Due to the $L_1$-norm, coefficients are pushed to zero if $\\alpha$ increases. We can visualize this (Figure 3) by plotting the lasso regression coefficient estimates against $\\alpha$ (averaged over the bootstrap runs). \n",
    "\n",
    "<font color='red'>It can be observed nicely from the figure that the lasso regression coefficients are pushed towards zero as $\\alpha$ increases, up to a point where the coefficients all become zero. Naturally this will lead to zero variance of the model predictions, as the model will be of the form $\\hat{y}=\\beta_0$, where $\\beta_0$ is the bias term. </font>\n",
    "\n",
    "<font color='red'>**Vincent:** Is dit stuk relevant?</font>\n",
    "-->"
   ]
  },
  {
   "cell_type": "code",
   "execution_count": 51,
   "metadata": {},
   "outputs": [
    {
     "data": {
      "image/png": "[encoded data removed]",
      "text/plain": [
       "<Figure size 432x288 with 1 Axes>"
      ]
     },
     "metadata": {
      "needs_background": "light"
     },
     "output_type": "display_data"
    },
    {
     "data": {
      "image/png": "[encoded data removed]",
      "text/plain": [
       "<Figure size 432x288 with 1 Axes>"
      ]
     },
     "metadata": {
      "needs_background": "light"
     },
     "output_type": "display_data"
    },
    {
     "data": {
      "image/png": "[encoded data removed]",
      "text/plain": [
       "<Figure size 432x288 with 1 Axes>"
      ]
     },
     "metadata": {
      "needs_background": "light"
     },
     "output_type": "display_data"
    }
   ],
   "source": [
    "# Figure 1: Mean Squared Error (MSE) for different values of alpha \n",
    "plt.figure()\n",
    "plt.errorbar(np.log10(alphaspace), np.mean(MSEs, axis=0), yerr=np.std(MSEs, axis=0),\n",
    "            elinewidth=2, fmt='o-', markersize=10, capsize=14, color='orangered')\n",
    "plt.xlabel('$\\\\mathrm{log}_{10}\\\\,\\\\alpha$')\n",
    "plt.ylabel('$\\\\mathrm{MSE}$')\n",
    "plt.title('(1) $\\\\mathrm{MSE}$ $\\mathrm{vs.}$ $\\\\alpha$')\n",
    "plt.show()\n",
    "\n",
    "# Figure 2: Bias for different values of alpha\n",
    "plt.figure()\n",
    "plt.errorbar(np.log10(alphaspace), np.mean(bias, axis=0), yerr=np.std(bias, axis=0),\n",
    "                         elinewidth=2, fmt='o-', markersize=10, capsize=14, color='orangered')\n",
    "plt.errorbar(np.log10(alphaspace), np.mean(bias2, axis=0), yerr=np.std(bias, axis=0),\n",
    "                         elinewidth=2, fmt='o-', markersize=10, capsize=14, color='orangered')\n",
    "plt.xlabel('$\\\\mathrm{log}_{10}\\\\,\\\\alpha$')\n",
    "plt.ylabel('$\\\\mathrm{bias}$')\n",
    "plt.title('(2) $\\\\mathrm{bias}$ $\\mathrm{vs.}$ $\\\\alpha$')\n",
    "plt.show()\n",
    "\n",
    "\n",
    "# Figure 3: Variance for different values of alpha\n",
    "plt.figure()\n",
    "plt.plot(np.log10(alphaspace), np.mean(stds, axis=0), 'o-', markersize=10, color='teal')\n",
    "plt.xlabel('$\\\\mathrm{log}_{10}\\\\,\\\\alpha$')\n",
    "plt.ylabel('$\\\\mathrm{Var}(y_{\\mathrm{pred}})$')\n",
    "plt.title('(3) $\\\\mathrm{Var}(y_{\\mathrm{pred}})$ $\\mathrm{vs.}$ $\\\\alpha$')\n",
    "plt.show()\n",
    "\n"
   ]
  },
  {
   "cell_type": "code",
   "execution_count": 25,
   "metadata": {},
   "outputs": [
    {
     "data": {
      "image/png": "[encoded data removed]",
      "text/plain": [
       "<Figure size 432x288 with 1 Axes>"
      ]
     },
     "metadata": {
      "needs_background": "light"
     },
     "output_type": "display_data"
    }
   ],
   "source": [
    "# Figure 4: Beta coefficient for different values of alpha\n",
    "plt.figure()\n",
    "for i in range(gene_expression.shape[1]):\n",
    "    plt.plot(np.log10(alphaspace), np.mean(coefs[:, :, i], axis=0))\n",
    "plt.xlabel('$\\\\mathrm{log}_{10}\\\\,\\\\alpha$')\n",
    "plt.ylabel('Lasso regression coefficient $\\\\beta$')\n",
    "plt.title('(4) Lasso regression coefficient estimates (averaged over runs)')\n",
    "plt.show()\n"
   ]
  },
  {
   "cell_type": "markdown",
   "metadata": {},
   "source": [
    "## Logistic regression\n",
    "\n",
    "<p><font color='#770a0a'>Write the expression of the objective function for the penalized logistic regression with $L_1$ and $L_2$ regularisation (as in Elastic net).</font></p>"
   ]
  },
  {
   "cell_type": "markdown",
   "metadata": {},
   "source": [
    "***ANSWER:***\n",
    "\n",
    "The objective function $\\mathcal{L}$ of logistic regression can be characterized by:\n",
    "\\begin{align*}\n",
    "\\mathcal{L}(\\mathbf{\\beta})=\\sum_{i=1}^{N} [y_i(\\beta_0 + \\beta^T x_i) - \\log(1+e^{(\\beta_0+\\beta^T x_i)}]\n",
    "\\end{align*}\n",
    "\n",
    "The $L_1$ and $L_2$ regularisation terms can be added to the objective function:\n",
    "\n",
    "\\begin{align*}\n",
    "\\mathcal{L}(\\mathbf{\\beta})=\\sum_{i=1}^{N} [y_i(\\beta_0 + \\beta^T x_i) - \\log(1+e^{(\\beta_0+\\beta^T x_i)}] - \\sum_{j=1}^{p} \\left(\\alpha_1\\beta_j^2 + \\alpha_2 |\\beta_j|\\right)\n",
    "\\end{align*}\n",
    "\n",
    "\n",
    "Here $\\alpha_1$, $\\alpha_2$ are the regularisation parameters for $L_1$ and $L_2$ regularisation respectively. Alternatively, a trade-off parameter $V \\in [0, 1]$ can be introduced:\n",
    "\n",
    "\\begin{align*}\n",
    "\\mathcal{L}(\\mathbf{\\beta})=\\sum_{i=1}^{N} [y_i(\\beta_0 + \\beta^T x_i) - \\log(1+e^{(\\beta_0+\\beta^T x_i)}] - \\alpha  \\sum_{j=1}^{p} (V\\beta_j^2 + (1-V) |\\beta_j|)\n",
    "\\end{align*}\n",
    "\n",
    "When $V=0$, Lasso regulatisation is used; when $V=1$, Ridge regularisation is used."
   ]
  }
 ],
 "metadata": {
  "kernelspec": {
   "display_name": "Python 3",
   "language": "python",
   "name": "python3"
  },
  "language_info": {
   "codemirror_mode": {
    "name": "ipython",
    "version": 3
   },
   "file_extension": ".py",
   "mimetype": "text/x-python",
   "name": "python",
   "nbconvert_exporter": "python",
   "pygments_lexer": "ipython3",
   "version": "3.6.13"
  }
 },
 "nbformat": 4,
 "nbformat_minor": 2
}
