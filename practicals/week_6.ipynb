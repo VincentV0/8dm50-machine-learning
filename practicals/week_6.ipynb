{
 "cells": [
  {
   "cell_type": "markdown",
   "metadata": {},
   "source": [
    "# Preliminaries\n",
    "\n",
    "## Dataset\n",
    "\n",
    "In this set of exercises we will use the same dataset as from [week 3](week_3.ipynb). \n",
    "\n",
    "\n",
    "As before, we provide the data already curated in the following two files:\n",
    "\n",
    "`RNA_expression_curated.csv`: [148 cell lines , 238 genes]\n",
    "\n",
    "`drug_response_curated.csv`: [148 cell lines , YM155 drug]\n",
    "\n",
    "The curated data can be read as `pandas` `DataFrame` in the following way:"
   ]
  },
  {
   "cell_type": "code",
   "execution_count": 1,
   "metadata": {},
   "outputs": [],
   "source": [
    "import pandas as pd\n",
    "\n",
    "gene_expression = pd.read_csv(\"./data/RNA_expression_curated.csv\", sep=',', header=0, index_col=0)\n",
    "drug_response = pd.read_csv(\"./data/drug_response_curated.csv\", sep=',', header=0, index_col=0)"
   ]
  },
  {
   "cell_type": "markdown",
   "metadata": {},
   "source": [
    "The goal of the exercises is to train support vector machine (SVM) and random forests classifiers on this dataset and explore and learn about their hyperparameters. "
   ]
  },
  {
   "cell_type": "markdown",
   "metadata": {},
   "source": [
    "## Tools\n",
    "\n",
    "The `scikit-learn` library provides the required tools for support vector machines, as well as for random forest algorithms."
   ]
  },
  {
   "cell_type": "code",
   "execution_count": 2,
   "metadata": {},
   "outputs": [],
   "source": [
    "from sklearn import svm \n",
    "from sklearn.ensemble import RandomForestClassifier\n",
    "from sklearn.model_selection import GridSearchCV\n",
    "from sklearn.model_selection import train_test_split\n",
    "from sklearn.datasets import make_blobs, make_circles\n",
    "from sklearn.metrics import classification_report"
   ]
  },
  {
   "cell_type": "markdown",
   "metadata": {},
   "source": [
    "Before proceeding, look up the documentation of the imported functions and read about their basic functionality. Below, we list some important parameters of SVMs and random forests that can be tuned during training."
   ]
  },
  {
   "cell_type": "markdown",
   "metadata": {},
   "source": [
    "#### Support Vector Machines (SVM)\n",
    "\n",
    "`C`: error term.\n",
    "\n",
    "`kernel`: similarity function ('linear', 'poly', 'sigmoid' or 'rbf')\n",
    "\n",
    "`gamma`: kernel coef. for 'rbf', 'poly' and 'sigmoid' kernels. It can be thought of as the ‘spread’ of the kernel and therefore the decision region.\n",
    "\n",
    "`degree`: degree for the 'poly' kernel.\n",
    "\n",
    "`coef0`: independt term in the 'poly' and 'sigmoid' kernels\n",
    "\n",
    "\n",
    "#### Random Forests\n",
    "\n",
    "`n_estimators`: number of trees in our random forest.\n",
    "\n",
    "`max_depth`: maximum number of levels in each decision tree\n",
    "\n",
    "`max_features`: maximum number of features to consider per split in an individual tree.\n",
    "\n",
    "`min_sample_leaf`: minimum number of data points per leaf node\n",
    "\n",
    "`min_samples_split`: minimum number of data points placed in a node before the node is split\n",
    "\n",
    "`oob_score`: the out-of-bag (OOB) error is the average error for each observation calculated using predictions from the trees that do not contain that observation in their respective bootstrap sample. Set this parameter to true.\n",
    "\n",
    "`bootstrap`: method for sampling data points (with or without replacement). Set this parameter to true.\n",
    "\n",
    "`criterion`: function used to measure the quality of the split (e.g. 'entropy' or 'gini')\n",
    "\n",
    "# Exercises\n",
    "\n",
    "## Support vector machines\n",
    "\n",
    "The  `make_blobs` and `make_circles` functions can be used to generate linearly and not linearly separable toy datasets. "
   ]
  },
  {
   "cell_type": "code",
   "execution_count": 3,
   "metadata": {},
   "outputs": [],
   "source": [
    "# data generation: linearly separable\n",
    "X, Y = make_blobs(n_samples=200, centers=2, n_features=2, random_state=1234)\n",
    "X = pd.DataFrame(X, columns=['x1', 'x2'])\n",
    "\n",
    "# splitting data into training and test set\n",
    "X_train, X_test, Y_train, Y_test = train_test_split(X, Y, test_size=0.33, random_state=333)"
   ]
  },
  {
   "cell_type": "markdown",
   "metadata": {},
   "source": [
    "The following code illustrates how to train a linear SVM classifier and plot the data points, the separating hyperplane, the support vectors and the margins that pass through them (considering the training data)"
   ]
  },
  {
   "cell_type": "code",
   "execution_count": 4,
   "metadata": {},
   "outputs": [
    {
     "data": {
      "image/png": "[encoded data removed]",
      "text/plain": [
       "<Figure size 432x288 with 1 Axes>"
      ]
     },
     "metadata": {
      "needs_background": "light"
     },
     "output_type": "display_data"
    }
   ],
   "source": [
    "import numpy as np\n",
    "import matplotlib.pyplot as plt\n",
    "\n",
    "# build the model\n",
    "model = svm.SVC(kernel='linear', random_state=33)\n",
    "model.fit(X_train, Y_train)\n",
    "\n",
    "# create plot\n",
    "fig, ax = plt.subplots()\n",
    "\n",
    "# get colors from qualitative colormap 'Paired'\n",
    "cmap = plt.cm.get_cmap('Paired')\n",
    "\n",
    "# plot data points\n",
    "ax.scatter(X_train.iloc[Y_train == 1, 0], X_train.iloc[Y_train == 1, 1],\n",
    "           c=[cmap(11)], label='1')\n",
    "ax.scatter(X_train.iloc[Y_train == 0, 0], X_train.iloc[Y_train == 0, 1],\n",
    "           c=[cmap(0)], label='0')\n",
    "ax.legend(loc='best')\n",
    "\n",
    "# plot the decision function\n",
    "# create grid to evaluate model\n",
    "x1_min, x1_max = X_train.iloc[:, 0].min() - 1, X_train.iloc[:, 0].max() + 1\n",
    "x2_min, x2_max = X_train.iloc[:, 1].min() - 1, X_train.iloc[:, 1].max() + 1\n",
    "\n",
    "XX, YY = np.meshgrid(np.arange(x1_min, x1_max, .2),\n",
    "                     np.arange(x2_min, x2_max, .2))\n",
    "\n",
    "xy = np.vstack([XX.ravel(), YY.ravel()]).T\n",
    "Z = model.decision_function(xy).reshape(XX.shape)\n",
    "\n",
    "# plot decision boundary and margins\n",
    "ax.contour(XX, YY, Z, colors='k', levels=[-1, 0, 1], alpha=0.5,\n",
    "           linestyles=['--', '-', '--'])\n",
    "\n",
    "# Establish the class for each point in the contour\n",
    "Z = model.predict(xy).reshape(XX.shape)\n",
    "\n",
    "# Visualization of the contour\n",
    "ax.contourf(XX, YY, Z, cmap='bwr', alpha=0.3)\n",
    "\n",
    "# plot support vectors, whose are responsible for building the margins\n",
    "ax.scatter(model.support_vectors_[:, 0], model.support_vectors_[:, 1], s=100,\n",
    "           linewidth=1, facecolors='none', edgecolors='k', marker='s')\n",
    "\n",
    "ax.axis([x1_min, x1_max, x2_min, x2_max])\n",
    "plt.axis('tight')\n",
    "plt.title('Linear kernel SVM')\n",
    "plt.show()"
   ]
  },
  {
   "cell_type": "markdown",
   "metadata": {},
   "source": [
    "Train a radial basis function (RBF) SVM classifier with `gamma=0.5` and plot the results in the same way."
   ]
  },
  {
   "cell_type": "code",
   "execution_count": 36,
   "metadata": {},
   "outputs": [
    {
     "data": {
      "image/png": "[encoded data removed]",
      "text/plain": [
       "<Figure size 432x288 with 1 Axes>"
      ]
     },
     "metadata": {
      "needs_background": "light"
     },
     "output_type": "display_data"
    }
   ],
   "source": [
    "# data generation: not linearly separable\n",
    "X, Y = make_circles(n_samples=200, noise=0.05, random_state=1234)\n",
    "X = pd.DataFrame(X, columns=['x1', 'x2'])\n",
    "\n",
    "# splitting data into training and test set\n",
    "X_train, X_test, Y_train, Y_test = train_test_split(X, Y, test_size=0.33, random_state=333)\n",
    "\n",
    "# build the model\n",
    "model = svm.SVC(kernel='rbf',  random_state=33)\n",
    "model.fit(X_train, Y_train)\n",
    "\n",
    "# create plot\n",
    "fig, ax = plt.subplots()\n",
    "\n",
    "# get colors from qualitative colormap 'Paired'\n",
    "cmap = plt.cm.get_cmap('Paired')\n",
    "\n",
    "# plot data points\n",
    "ax.scatter(X_train.iloc[Y_train == 1, 0], X_train.iloc[Y_train == 1, 1],\n",
    "           c=[cmap(11)], label='1')\n",
    "ax.scatter(X_train.iloc[Y_train == 0, 0], X_train.iloc[Y_train == 0, 1],\n",
    "           c=[cmap(0)], label='0')\n",
    "ax.legend(loc='best')\n",
    "\n",
    "# plot the decision function\n",
    "# create grid to evaluate model\n",
    "x1_min, x1_max = X_train.iloc[:, 0].min() - 1, X_train.iloc[:, 0].max() + 1\n",
    "x2_min, x2_max = X_train.iloc[:, 1].min() - 1, X_train.iloc[:, 1].max() + 1\n",
    "\n",
    "XX, YY = np.meshgrid(np.arange(x1_min, x1_max, .2),\n",
    "                     np.arange(x2_min, x2_max, .2))\n",
    "\n",
    "xy = np.vstack([XX.ravel(), YY.ravel()]).T\n",
    "Z = model.decision_function(xy).reshape(XX.shape)\n",
    "\n",
    "# plot decision boundary and margins\n",
    "ax.contour(XX, YY, Z, colors='k', levels=[-1, 0, 1], alpha=0.5,\n",
    "           linestyles=['--', '-', '--'])\n",
    "\n",
    "# Establish the class for each point in the contour\n",
    "Z = model.predict(xy).reshape(XX.shape)\n",
    "\n",
    "# Visualization of the contour\n",
    "ax.contourf(XX, YY, Z, cmap='bwr', alpha=0.3)\n",
    "\n",
    "# plot support vectors, whose are responsible for building the margins\n",
    "ax.scatter(model.support_vectors_[:, 0], model.support_vectors_[:, 1], s=100,\n",
    "           linewidth=1, facecolors='none', edgecolors='k', marker='s')\n",
    "\n",
    "ax.axis([x1_min, x1_max, x2_min, x2_max])\n",
    "plt.axis('tight')\n",
    "plt.title('Radial basis function kernel SVM')\n",
    "plt.show()"
   ]
  },
  {
   "cell_type": "markdown",
   "metadata": {},
   "source": [
    "<p><font color='#770a0a'>When should a RBF kernel be used over a linear kernel? Motivate your answer.</font></p>\n",
    "When the relation between the predictors and the outcome are non-linear. Take the problem above where the instances are separated by a circular boundary. A linear kernel cannot obtain a good solution, because it can only form straight line boundaries (or hyperplanes in higher dimensional problems). \n",
    "\n",
    "<p><font color='#770a0a'>Do we need to normalize the data before using a kernel function? Motivate your answer.\n",
    "</font></p>\n",
    "If the features are not in the same scale, the algorithm might favor certain features over others. This is due to the fact the algorithm takes into account the distances between the instances in the feature space and the decision boundary. For the RBF kernel $\\displaystyle e^{-\\gamma ||x -x'||^2}$ this is even a greater concern due to the fact the Euclidean distance is used. "
   ]
  },
  {
   "cell_type": "markdown",
   "metadata": {},
   "source": [
    "## Predicting drug response on cell lines from gene expression data with SVMs\n",
    "\n",
    "Explore the hyper-parameter space of an SVM classifier with cross-validation for the Genomics of Drug Sensitivity in Cancer (GDSC) dataset. The`GridSearchCV` function can be used to specify a grid of parameter values with the `param_grid` parameter.\n",
    "\n",
    "Calculate the precision of your predictions, and compare your calculations with the results of `classification_report`, which displays many classification metrics."
   ]
  },
  {
   "cell_type": "markdown",
   "metadata": {},
   "source": [
    "<font color='red'>Glenn: ??? Ze vragen om een SVM CLASSIFIER, maar willen dat je drug response (Continuous variable) predict vanuit gene expression ??? Code hieronder gebruikt SVM regression om dat dan te bereiken maar lijkt me gek dat ze het hierboven ook alleen maar over classification hebben? + De classification_report hint ook naar classification. Ditzelfde geld voor de random forest hieronder</font>\n",
    "\n",
    "<font color='#FF0000'>Troy: Zie canvas discussie forum</font>"
   ]
  },
  {
   "cell_type": "code",
   "execution_count": 23,
   "metadata": {
    "scrolled": false
   },
   "outputs": [
    {
     "name": "stdout",
     "output_type": "stream",
     "text": [
      "F1 score (test set): 0.5532\n",
      "Optimal parameters:\n",
      "svm__C: 10.0\n",
      "svm__degree: 2\n",
      "svm__kernel: sigmoid\n",
      "              precision    recall  f1-score   support\n",
      "\n",
      "           0       0.65      0.42      0.51        26\n",
      "           1       0.46      0.68      0.55        19\n",
      "\n",
      "    accuracy                           0.53        45\n",
      "   macro avg       0.56      0.55      0.53        45\n",
      "weighted avg       0.57      0.53      0.53        45\n",
      "\n"
     ]
    }
   ],
   "source": [
    "%matplotlib inline\n",
    "%reload_ext autoreload\n",
    "%autoreload 1\n",
    "import matplotlib.pyplot as plt\n",
    "from sklearn.preprocessing import PolynomialFeatures, StandardScaler\n",
    "from sklearn.metrics import f1_score, make_scorer\n",
    "from sklearn.model_selection import GridSearchCV, train_test_split\n",
    "from sklearn.pipeline import Pipeline\n",
    "import pandas as pd\n",
    "import numpy as np\n",
    "\n",
    "# Initialize (pseudo-) random number generator with a seed\n",
    "# for reproducibility of results\n",
    "np.random.seed(40)\n",
    "\n",
    "def do_gridsearch(X_train, y_train, X_test, y_test, params, crossvals=5, plot=True):\n",
    "    \"\"\"\n",
    "    given a train and a test dataset, fit and evaluate Support vector regression with given degrees\n",
    "    \n",
    "    Parameters: \n",
    "        X_train: 2D (Datapoints x features) numpy array\n",
    "            the datapoints on which to train the models\n",
    "        y_train: 1D (Targets) numpy array\n",
    "            the targets on which to train the models\n",
    "        X_test: 2D (Datapoints x features) numpy array\n",
    "            the datapoints on which to test the models\n",
    "        y_test: 1D (Targets) numpy array\n",
    "            the targets on which to test the models\n",
    "        alphas: 1D numpy array\n",
    "             alpha candidates\n",
    "        crossvals: int\n",
    "            amount of cross-validation folds\n",
    "        plot: bool\n",
    "            True for plotting the MSE scores, False for surpressing the plots\n",
    "    \n",
    "    returns: \n",
    "        a GridSearchCV object, containing the fitted models for every kernel in SVR\n",
    "    \"\"\"\n",
    "    # Define the functions for polynomial features and linear regression\n",
    "    model = svm.SVC()\n",
    "    scaler = StandardScaler()\n",
    "\n",
    "    # Define the pipeline, containing the polynomial transformation and the subsequent linear regression\n",
    "    model = Pipeline([\n",
    "                     (\"scaler\", scaler), # Should you normalize for SVM? Question above.\n",
    "                     (\"svm\", model)\n",
    "                    ])\n",
    "\n",
    "    # Define a custom scoring system to evaluate the F1 score (lower is better)\n",
    "    #f1 = make_scorer(f1_score,greater_is_better=True)\n",
    "\n",
    "    # Define the Grid Search method\n",
    "    gridsearch = GridSearchCV(model, params, scoring='f1', cv=crossvals)\n",
    "\n",
    "    # Run Grid Search\n",
    "    gridsearch.fit(X_train, y_train)\n",
    "    \n",
    "    # Predict targets for test set\n",
    "    y_pred = gridsearch.predict(X_test)\n",
    "    \n",
    "    # Calculate F1 score of the predictions on the test set\n",
    "    f1_test_set = f1_score(y_test, y_pred)\n",
    "    print(f'F1 score (test set): {f1_test_set:.4}')\n",
    "    \n",
    "    return gridsearch\n",
    "\n",
    "# Load data from CSV-files\n",
    "gene_expression = pd.read_csv(\"./data/RNA_expression_curated.csv\", sep=',', header=0, index_col=0)\n",
    "drug_response = pd.read_csv(\"./data/drug_response_curated.csv\", sep=',', header=0, index_col=0)\n",
    "\n",
    "# Compute the z score and set all negative values to '0' ('sensitive')\n",
    "# set all positive values to '1' ('resistant')\n",
    "drug_response = ((drug_response - drug_response.mean()) / drug_response.std() > 0).astype(int)\n",
    "\n",
    "# Split data into training and test set\n",
    "X_train, X_test, y_train, y_test = train_test_split(gene_expression, drug_response, test_size=0.3)\n",
    "X_train, X_test, y_train, y_test = X_train.to_numpy(), X_test.to_numpy(), y_train.to_numpy(), y_test.to_numpy()\n",
    "y_train, y_test = y_train.ravel(), y_test.ravel()\n",
    "\n",
    "# List of dictionaries because each kernel has different parameters\n",
    "params = [{'svm__kernel': ['linear', 'rbf'], 'svm__C': np.logspace(-3, 3, 7)},\n",
    "          {'svm__kernel': ['rbf'], 'svm__C': np.logspace(-3, 3, 7), 'svm__gamma': np.logspace(-5, 2, 8)},\n",
    "          {'svm__kernel': ['poly', 'sigmoid'], 'svm__C': np.logspace(-3, 3, 7), 'svm__degree': np.arange(2,5)},\n",
    "          {'svm__kernel': ['poly', 'sigmoid'], 'svm__C': np.logspace(-3, 3, 7), 'svm__degree': np.arange(2,5), 'svm__gamma': np.logspace(-5, 2, 8)}]\n",
    "                  \n",
    "# Find optimal value for svm kernel using Grid Search\n",
    "grids = do_gridsearch(X_train, y_train, X_test, y_test, params, 5)\n",
    "#alphamin = grids.best_params_['svm__kernel']\n",
    "print(\"Optimal parameters:\")\n",
    "for param, value in grids.best_params_.items():\n",
    "    print(f'{param}: {value}')\n",
    "    \n",
    "# Make predictions on test set\n",
    "y_pred = grids.predict(X_test)\n",
    "print(classification_report(np.ravel(y_test), y_pred))\n"
   ]
  },
  {
   "cell_type": "markdown",
   "metadata": {},
   "source": [
    "Now we compare the precision with a manually computed precision. The precision is given by:\n",
    "\n",
    "$$ \\text{Precision} = \\frac{\\text{TP}}{\\text{TP}+\\text{FP}}$$\n",
    "\n",
    "<font color='#FF0000'> Vorig jaar werd er gezeurd dat het niet volledig handmatig was als er niet daadwerkelijk de true en false positives handmatig geteld waren.. </font>\n",
    "\n",
    "For manual computation we get all true positives and false positives. First, in the cell below the true labels are shown together with the predicted labels."
   ]
  },
  {
   "cell_type": "code",
   "execution_count": 34,
   "metadata": {},
   "outputs": [
    {
     "name": "stdout",
     "output_type": "stream",
     "text": [
      "(0) True: 0 | Predicted: 1\n",
      "(1) True: 0 | Predicted: 1\n",
      "(2) True: 0 | Predicted: 1\n",
      "(3) True: 0 | Predicted: 0\n",
      "(4) True: 1 | Predicted: 1\n",
      "(5) True: 0 | Predicted: 0\n",
      "(6) True: 1 | Predicted: 1\n",
      "(7) True: 1 | Predicted: 0\n",
      "(8) True: 0 | Predicted: 1\n",
      "(9) True: 0 | Predicted: 0\n",
      "(10) True: 0 | Predicted: 1\n",
      "(11) True: 0 | Predicted: 1\n",
      "(12) True: 0 | Predicted: 0\n",
      "(13) True: 0 | Predicted: 1\n",
      "(14) True: 0 | Predicted: 1\n",
      "(15) True: 1 | Predicted: 0\n",
      "(16) True: 1 | Predicted: 1\n",
      "(17) True: 1 | Predicted: 1\n",
      "(18) True: 1 | Predicted: 1\n",
      "(19) True: 0 | Predicted: 0\n",
      "(20) True: 1 | Predicted: 1\n",
      "(21) True: 1 | Predicted: 1\n",
      "(22) True: 0 | Predicted: 1\n",
      "(23) True: 1 | Predicted: 1\n",
      "(24) True: 0 | Predicted: 1\n",
      "(25) True: 0 | Predicted: 1\n",
      "(26) True: 0 | Predicted: 1\n",
      "(27) True: 0 | Predicted: 0\n",
      "(28) True: 1 | Predicted: 0\n",
      "(29) True: 1 | Predicted: 0\n",
      "(30) True: 0 | Predicted: 0\n",
      "(31) True: 0 | Predicted: 0\n",
      "(32) True: 1 | Predicted: 1\n",
      "(33) True: 0 | Predicted: 1\n",
      "(34) True: 0 | Predicted: 0\n",
      "(35) True: 0 | Predicted: 0\n",
      "(36) True: 0 | Predicted: 0\n",
      "(37) True: 1 | Predicted: 1\n",
      "(38) True: 1 | Predicted: 1\n",
      "(39) True: 0 | Predicted: 1\n",
      "(40) True: 0 | Predicted: 1\n",
      "(41) True: 1 | Predicted: 0\n",
      "(42) True: 1 | Predicted: 1\n",
      "(43) True: 1 | Predicted: 1\n",
      "(44) True: 1 | Predicted: 0\n",
      "11\n"
     ]
    }
   ],
   "source": [
    "for i in range(len(y_pred)):\n",
    "    print(f'({i}) True: {y_test[i]} | Predicted: {y_pred[i]}')\n",
    "\n",
    "print(np.sum(y_test[y_test==0] == y_pred[y_test==0]))"
   ]
  },
  {
   "cell_type": "markdown",
   "metadata": {},
   "source": [
    "The amount of true positives: $TP=13$ \n",
    "The amount of false positives: $FP=15$\n",
    "The precision: \n",
    "$$ \\text{Precision} = \\frac{13}{13 + 15}=\\frac{13}{28}\\approx 0.46$$\n",
    "\n",
    "This outcome corresponds with the precision for label '1'. We can repeat the same calculations \n",
    "for the precision of label '0':\n",
    "\n",
    "The amount of true positives: $TP=13$ \n",
    "The amount of false positives: $FP=15$\n",
    "The precision: \n",
    "$$ \\text{Precision} = \\frac{11}{11 + 6}=\\frac{11}{17}\\approx 0.65$$\n",
    "\n",
    "The classification also shows a 'macro' average, which is the arithmetic mean: $\\frac{1}{2}(0.65+0.46)\\approx0.56$, and a weighted mean (weighted by the support): $\\frac{1}{28+17}(28\\cdot 0.65 + 17\\cdot 0.46)\\approx0.57$"
   ]
  },
  {
   "cell_type": "markdown",
   "metadata": {},
   "source": [
    "## Random forests\n",
    "\n",
    "Follow the same steps as for SVM. Compare the two algorithms and report which one has better performance.\n",
    "\n",
    "The random forests classifiers allows to perform feature selection. Evaluate the importance of features extracting the top 50 informative features. A bar plot (`plt.bar()`) can be a useful tool to visualize this. "
   ]
  },
  {
   "cell_type": "code",
   "execution_count": 11,
   "metadata": {},
   "outputs": [
    {
     "name": "stdout",
     "output_type": "stream",
     "text": [
      "Mean squared error (test set): 5.449\n",
      "Optimal kernel: 40\n"
     ]
    },
    {
     "data": {
      "image/png": "[encoded data removed]",
      "text/plain": [
       "<Figure size 432x288 with 1 Axes>"
      ]
     },
     "metadata": {
      "needs_background": "light"
     },
     "output_type": "display_data"
    },
    {
     "data": {
      "image/png": "[encoded data removed]",
      "text/plain": [
       "<Figure size 432x288 with 1 Axes>"
      ]
     },
     "metadata": {
      "needs_background": "light"
     },
     "output_type": "display_data"
    }
   ],
   "source": [
    "%matplotlib inline\n",
    "%reload_ext autoreload\n",
    "%autoreload 1\n",
    "import matplotlib.pyplot as plt\n",
    "from sklearn.preprocessing import PolynomialFeatures, StandardScaler\n",
    "from sklearn.metrics import mean_squared_error, make_scorer\n",
    "from sklearn.model_selection import GridSearchCV, train_test_split\n",
    "from sklearn.ensemble import RandomForestRegressor\n",
    "from sklearn.pipeline import Pipeline\n",
    "import pandas as pd\n",
    "import numpy as np\n",
    "\n",
    "# Initialize (pseudo-) random number generator with a seed\n",
    "# for reproducibility of results\n",
    "np.random.seed(40)\n",
    "\n",
    "def do_gridsearch(X_train, y_train, X_test, y_test, estim, crossvals=5, plot=True):\n",
    "    \"\"\"\n",
    "    given a train and a test dataset, fit and evaluate Support vector regression with given degrees\n",
    "    \n",
    "    Parameters: \n",
    "        X_train: 2D (Datapoints x features) numpy array\n",
    "            the datapoints on which to train the models\n",
    "        y_train: 1D (Targets) numpy array\n",
    "            the targets on which to train the models\n",
    "        X_test: 2D (Datapoints x features) numpy array\n",
    "            the datapoints on which to test the models\n",
    "        y_test: 1D (Targets) numpy array\n",
    "            the targets on which to test the models\n",
    "        alphas: 1D numpy array\n",
    "             alpha candidates\n",
    "        crossvals: int\n",
    "            amount of cross-validation folds\n",
    "        plot: bool\n",
    "            True for plotting the MSE scores, False for surpressing the plots\n",
    "    \n",
    "    returns: \n",
    "        a GridSearchCV object, containing the fitted models for every kernel in SVR\n",
    "    \"\"\"\n",
    "    # Define the functions for polynomial features and linear regression\n",
    "    model = RandomForestRegressor()\n",
    "    scaler = StandardScaler()\n",
    "\n",
    "    # Define the pipeline, containing the polynomial transformation and the subsequent linear regression\n",
    "    model = Pipeline([\n",
    "                     (\"scaler\", scaler), # Should you normalize for SVM? Question above.\n",
    "                     (\"forest\", model)\n",
    "                    ])\n",
    "\n",
    "    # Define the hyperparameters for the Grid Search\n",
    "    params = {'forest__n_estimators': estim}\n",
    "\n",
    "    # Define a custom scoring system to evaluate the mean squared error (lower is better)\n",
    "    mse = make_scorer(mean_squared_error,greater_is_better=False)\n",
    "\n",
    "    # Define the Grid Search method\n",
    "    gridsearch = GridSearchCV(model, params, scoring=mse, cv=crossvals)\n",
    "\n",
    "    # Run Grid Search\n",
    "    gridsearch.fit(X_train, y_train)\n",
    "    \n",
    "    # Predict targets for test set\n",
    "    y_pred = gridsearch.predict(X_test)\n",
    "    \n",
    "    # Calculate MSE of the predictions on the test set\n",
    "    MSE_test_set = mean_squared_error(y_test, y_pred)\n",
    "    print(f'Mean squared error (test set): {MSE_test_set:.4}')\n",
    "    \n",
    "    if plot:\n",
    "        # Plot MSE scores\n",
    "        plt.figure()\n",
    "        plt.title('Scores for every kernel (per fold different colors)')\n",
    "        colors = ['b.', 'r.', 'g.', 'y.', 'k.', 'c.']\n",
    "        for i in range(crossvals):\n",
    "            q = gridsearch.cv_results_[f'split{i}_test_score']\n",
    "            plt.plot(params['forest__n_estimators'], np.log(-q), colors[i % len(colors)], markersize=12)\n",
    "\n",
    "        plt.xlabel('n_estimators')\n",
    "        plt.ylabel('log(-MSE)')\n",
    "        plt.legend(list(range(1,crossvals+1)))\n",
    "\n",
    "        # Plot average MSE scores\n",
    "        plt.figure()\n",
    "        #plt.errorbar(np.log(params['lasso__alpha']), np.log(-gridsearch.cv_results_[f'mean_test_score']), np.log(gridsearch.cv_results_[f'std_test_score']), linestyle='None', marker='.',markersize=12)\n",
    "        plt.plot(params['forest__n_estimators'], np.log(-gridsearch.cv_results_[f'mean_test_score']), 'k.', markersize=12)\n",
    "        plt.title('Average scores of all folds')\n",
    "        plt.xlabel('n_estimators')\n",
    "        plt.ylabel('log(-MSE)');\n",
    "    return gridsearch\n",
    "\n",
    "# Load data from CSV-files\n",
    "gene_expression = pd.read_csv(\"./data/RNA_expression_curated.csv\", sep=',', header=0, index_col=0)\n",
    "drug_response = pd.read_csv(\"./data/drug_response_curated.csv\", sep=',', header=0, index_col=0)\n",
    "\n",
    "# Split data into training and test set\n",
    "X_train, X_test, y_train, y_test = train_test_split(gene_expression, drug_response)\n",
    "X_train, X_test, y_train, y_test = X_train.to_numpy(), X_test.to_numpy(), y_train.to_numpy(), y_test.to_numpy()\n",
    "y_train, y_test = y_train.ravel(), y_test.ravel()\n",
    "\n",
    "\n",
    "# Define value range for hyperparams (optimal value to be found using Grid Search)\n",
    "n_estimators_l = np.linspace(10,100,10).astype(int)\n",
    "\n",
    "# Find optimal value for svm kernel using Grid Search\n",
    "grids = do_gridsearch(X_train, y_train, X_test, y_test, n_estimators_l, 5)\n",
    "alphamin = grids.best_params_['forest__n_estimators']\n",
    "print(f\"Optimal kernel: {alphamin}\")"
   ]
  },
  {
   "cell_type": "markdown",
   "metadata": {},
   "source": [
    "## Biomedical applications\n",
    "\n",
    "Driven by technological advances, there has recently been a dramatic increase in availability of biomedical data. Machine learning approaches are well suited to take advantage of this data and have been widely applied to many areas of biology. \n",
    "\n",
    "Example of these applications are genome annotation, biomarker identification, systems biology, genome data analysis, protein  function  prediction, protein  structure prediction, protein localization prediction, identification of protein interactions and drug discovery.\n",
    "\n",
    "SVM and RF methods are among the most popular machine learning methods applied in bioinformatics or computational biology.\n",
    "\n",
    "Perform a literature search and find a biomedical study in which SVM or RF is applied to obtain certain insights. <p><font color='#770a0a'>Explain the motivation behind using that specific algorithm in the study.\n",
    "</font></p>"
   ]
  }
 ],
 "metadata": {
  "kernelspec": {
   "display_name": "Python 3",
   "language": "python",
   "name": "python3"
  },
  "language_info": {
   "codemirror_mode": {
    "name": "ipython",
    "version": 3
   },
   "file_extension": ".py",
   "mimetype": "text/x-python",
   "name": "python",
   "nbconvert_exporter": "python",
   "pygments_lexer": "ipython3",
   "version": "3.6.13"
  }
 },
 "nbformat": 4,
 "nbformat_minor": 2
}
